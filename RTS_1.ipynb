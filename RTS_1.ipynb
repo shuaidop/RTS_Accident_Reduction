{
 "cells": [
  {
   "cell_type": "code",
   "execution_count": 3,
   "metadata": {},
   "outputs": [],
   "source": [
    "import pandas as pd\n",
    "import numpy as np\n",
    "import matplotlib.pyplot as plt\n"
   ]
  },
  {
   "cell_type": "code",
   "execution_count": 4,
   "metadata": {},
   "outputs": [],
   "source": [
    "schedule=pd.read_excel('Master_Scheduled_Days_Off.xlsx')"
   ]
  },
  {
   "cell_type": "code",
   "execution_count": 5,
   "metadata": {},
   "outputs": [],
   "source": [
    "accident=pd.read_excel('Master_Accident_Data.xlsx')"
   ]
  },
  {
   "cell_type": "code",
   "execution_count": 6,
   "metadata": {},
   "outputs": [
    {
     "data": {
      "text/plain": [
       "Index(['accdate', 'Operator_ID', 'AccTypeCodeDescr', 'AccSubTypeCodeDescr',\n",
       "       'acctype', 'BAITFISH Code', 'FileNumber', 'AccPreventable',\n",
       "       'Retraining', 'RetrainingDate', 'vehbusno', 'vehmake', 'vehyear',\n",
       "       'VehNoOccupants', 'Drv_Age', 'CoDrvSex', 'Roadway',\n",
       "       'RoadwayLightConditions', 'RoadwayWeather', 'RoadwaySurface',\n",
       "       'LocAddr1', 'Addr_Type', 'Neighborhood'],\n",
       "      dtype='object')"
      ]
     },
     "execution_count": 6,
     "metadata": {},
     "output_type": "execute_result"
    }
   ],
   "source": [
    "accident.columns"
   ]
  },
  {
   "cell_type": "code",
   "execution_count": 7,
   "metadata": {},
   "outputs": [
    {
     "data": {
      "text/html": [
       "<div>\n",
       "<style scoped>\n",
       "    .dataframe tbody tr th:only-of-type {\n",
       "        vertical-align: middle;\n",
       "    }\n",
       "\n",
       "    .dataframe tbody tr th {\n",
       "        vertical-align: top;\n",
       "    }\n",
       "\n",
       "    .dataframe thead th {\n",
       "        text-align: right;\n",
       "    }\n",
       "</style>\n",
       "<table border=\"1\" class=\"dataframe\">\n",
       "  <thead>\n",
       "    <tr style=\"text-align: right;\">\n",
       "      <th></th>\n",
       "      <th>accdate</th>\n",
       "      <th>Operator_ID</th>\n",
       "      <th>AccTypeCodeDescr</th>\n",
       "      <th>AccSubTypeCodeDescr</th>\n",
       "      <th>acctype</th>\n",
       "      <th>BAITFISH Code</th>\n",
       "      <th>FileNumber</th>\n",
       "      <th>AccPreventable</th>\n",
       "      <th>Retraining</th>\n",
       "      <th>RetrainingDate</th>\n",
       "      <th>...</th>\n",
       "      <th>VehNoOccupants</th>\n",
       "      <th>Drv_Age</th>\n",
       "      <th>CoDrvSex</th>\n",
       "      <th>Roadway</th>\n",
       "      <th>RoadwayLightConditions</th>\n",
       "      <th>RoadwayWeather</th>\n",
       "      <th>RoadwaySurface</th>\n",
       "      <th>LocAddr1</th>\n",
       "      <th>Addr_Type</th>\n",
       "      <th>Neighborhood</th>\n",
       "    </tr>\n",
       "  </thead>\n",
       "  <tbody>\n",
       "    <tr>\n",
       "      <th>0</th>\n",
       "      <td>2017-03-15 18:20:00</td>\n",
       "      <td>365</td>\n",
       "      <td>Vehicle Approaching From Angle</td>\n",
       "      <td>Vehicle approaches from right-both straight ac...</td>\n",
       "      <td>03 - MVA with Vehicle</td>\n",
       "      <td>0</td>\n",
       "      <td>17-249</td>\n",
       "      <td>Non-Preventable</td>\n",
       "      <td>N</td>\n",
       "      <td>NaT</td>\n",
       "      <td>...</td>\n",
       "      <td>1.0</td>\n",
       "      <td>47.0</td>\n",
       "      <td>F</td>\n",
       "      <td>Straight and Grade</td>\n",
       "      <td>Daylight</td>\n",
       "      <td>Snow</td>\n",
       "      <td>Snow</td>\n",
       "      <td>2194 N. CLINTON AVE</td>\n",
       "      <td>Address</td>\n",
       "      <td>West Irondequoit</td>\n",
       "    </tr>\n",
       "    <tr>\n",
       "      <th>1</th>\n",
       "      <td>2016-05-18 08:27:00</td>\n",
       "      <td>173</td>\n",
       "      <td>Vehicle Passing</td>\n",
       "      <td>Vehicle cuts in and scrapes RGRTA on left side</td>\n",
       "      <td>03 - MVA with Vehicle</td>\n",
       "      <td>0</td>\n",
       "      <td>16-617</td>\n",
       "      <td>Non-Preventable</td>\n",
       "      <td>N</td>\n",
       "      <td>NaT</td>\n",
       "      <td>...</td>\n",
       "      <td>0.0</td>\n",
       "      <td>40.0</td>\n",
       "      <td>M</td>\n",
       "      <td>Straight and Level</td>\n",
       "      <td>Daylight</td>\n",
       "      <td>Clear</td>\n",
       "      <td>Dry</td>\n",
       "      <td>4320 LAKE AVE.</td>\n",
       "      <td>Address</td>\n",
       "      <td>Charlotte</td>\n",
       "    </tr>\n",
       "    <tr>\n",
       "      <th>2</th>\n",
       "      <td>2018-09-12 14:09:00</td>\n",
       "      <td>329</td>\n",
       "      <td>Collisions with other motor vehicles</td>\n",
       "      <td>Miscellaneous</td>\n",
       "      <td>03 - MVA with Vehicle</td>\n",
       "      <td>0</td>\n",
       "      <td>18-1082</td>\n",
       "      <td>Non-Preventable</td>\n",
       "      <td>N</td>\n",
       "      <td>NaT</td>\n",
       "      <td>...</td>\n",
       "      <td>NaN</td>\n",
       "      <td>39.0</td>\n",
       "      <td>M</td>\n",
       "      <td>Straight and Level</td>\n",
       "      <td>Daylight</td>\n",
       "      <td>Cloudy</td>\n",
       "      <td>Dry</td>\n",
       "      <td>NaN</td>\n",
       "      <td>NaN</td>\n",
       "      <td>0</td>\n",
       "    </tr>\n",
       "    <tr>\n",
       "      <th>3</th>\n",
       "      <td>2019-05-07 15:00:00</td>\n",
       "      <td>276</td>\n",
       "      <td>Vehicle Approaching From Angle</td>\n",
       "      <td>Vehicle approaches from left-vehicle turns-RGR...</td>\n",
       "      <td>03 - MVA with Vehicle</td>\n",
       "      <td>0</td>\n",
       "      <td>19-598</td>\n",
       "      <td>Non-Preventable</td>\n",
       "      <td>N</td>\n",
       "      <td>NaT</td>\n",
       "      <td>...</td>\n",
       "      <td>NaN</td>\n",
       "      <td>41.0</td>\n",
       "      <td>M</td>\n",
       "      <td>Straight with Hillcrest</td>\n",
       "      <td>Daylight</td>\n",
       "      <td>Cloudy</td>\n",
       "      <td>Dry</td>\n",
       "      <td>NaN</td>\n",
       "      <td>NaN</td>\n",
       "      <td>0</td>\n",
       "    </tr>\n",
       "    <tr>\n",
       "      <th>4</th>\n",
       "      <td>2015-05-12 07:15:00</td>\n",
       "      <td>42</td>\n",
       "      <td>Passenger On Board Thrown By RGRTA Movement</td>\n",
       "      <td>Other part of equipment-passenger standing or ...</td>\n",
       "      <td>06 - On Board Injury/Incident</td>\n",
       "      <td>0</td>\n",
       "      <td>15-861</td>\n",
       "      <td>Non-Preventable</td>\n",
       "      <td>N</td>\n",
       "      <td>NaT</td>\n",
       "      <td>...</td>\n",
       "      <td>10.0</td>\n",
       "      <td>63.0</td>\n",
       "      <td>M</td>\n",
       "      <td>Straight and Level</td>\n",
       "      <td>Daylight</td>\n",
       "      <td>Clear</td>\n",
       "      <td>Dry</td>\n",
       "      <td>East Dr at Crittenden blvd</td>\n",
       "      <td>Intersection</td>\n",
       "      <td>Strong</td>\n",
       "    </tr>\n",
       "  </tbody>\n",
       "</table>\n",
       "<p>5 rows × 23 columns</p>\n",
       "</div>"
      ],
      "text/plain": [
       "              accdate  Operator_ID  \\\n",
       "0 2017-03-15 18:20:00          365   \n",
       "1 2016-05-18 08:27:00          173   \n",
       "2 2018-09-12 14:09:00          329   \n",
       "3 2019-05-07 15:00:00          276   \n",
       "4 2015-05-12 07:15:00           42   \n",
       "\n",
       "                              AccTypeCodeDescr  \\\n",
       "0               Vehicle Approaching From Angle   \n",
       "1                              Vehicle Passing   \n",
       "2         Collisions with other motor vehicles   \n",
       "3               Vehicle Approaching From Angle   \n",
       "4  Passenger On Board Thrown By RGRTA Movement   \n",
       "\n",
       "                                 AccSubTypeCodeDescr  \\\n",
       "0  Vehicle approaches from right-both straight ac...   \n",
       "1     Vehicle cuts in and scrapes RGRTA on left side   \n",
       "2                                      Miscellaneous   \n",
       "3  Vehicle approaches from left-vehicle turns-RGR...   \n",
       "4  Other part of equipment-passenger standing or ...   \n",
       "\n",
       "                         acctype BAITFISH Code FileNumber   AccPreventable  \\\n",
       "0          03 - MVA with Vehicle             0     17-249  Non-Preventable   \n",
       "1          03 - MVA with Vehicle             0     16-617  Non-Preventable   \n",
       "2          03 - MVA with Vehicle             0    18-1082  Non-Preventable   \n",
       "3          03 - MVA with Vehicle             0     19-598  Non-Preventable   \n",
       "4  06 - On Board Injury/Incident             0     15-861  Non-Preventable   \n",
       "\n",
       "  Retraining RetrainingDate  ...  VehNoOccupants Drv_Age  CoDrvSex  \\\n",
       "0          N            NaT  ...             1.0    47.0         F   \n",
       "1          N            NaT  ...             0.0    40.0         M   \n",
       "2          N            NaT  ...             NaN    39.0         M   \n",
       "3          N            NaT  ...             NaN    41.0         M   \n",
       "4          N            NaT  ...            10.0    63.0         M   \n",
       "\n",
       "                   Roadway  RoadwayLightConditions RoadwayWeather  \\\n",
       "0       Straight and Grade                Daylight           Snow   \n",
       "1       Straight and Level                Daylight          Clear   \n",
       "2       Straight and Level                Daylight         Cloudy   \n",
       "3  Straight with Hillcrest                Daylight         Cloudy   \n",
       "4       Straight and Level                Daylight          Clear   \n",
       "\n",
       "  RoadwaySurface                    LocAddr1     Addr_Type      Neighborhood  \n",
       "0           Snow         2194 N. CLINTON AVE       Address  West Irondequoit  \n",
       "1            Dry              4320 LAKE AVE.       Address         Charlotte  \n",
       "2            Dry                         NaN           NaN                 0  \n",
       "3            Dry                         NaN           NaN                 0  \n",
       "4            Dry  East Dr at Crittenden blvd  Intersection            Strong  \n",
       "\n",
       "[5 rows x 23 columns]"
      ]
     },
     "execution_count": 7,
     "metadata": {},
     "output_type": "execute_result"
    }
   ],
   "source": [
    "accident.head()"
   ]
  },
  {
   "cell_type": "markdown",
   "metadata": {},
   "source": [
    "## relationship between accident number and seniority date"
   ]
  },
  {
   "cell_type": "code",
   "execution_count": 12,
   "metadata": {},
   "outputs": [],
   "source": [
    "absence=absence.merge(seniority_date, left_on='Operator_ID', right_on='Operator_ID', how='left')"
   ]
  },
  {
   "cell_type": "code",
   "execution_count": 21,
   "metadata": {},
   "outputs": [],
   "source": [
    "combined_table=pd.DataFrame(absence.groupby('Operator_ID').accdate.agg('count')).reset_index().merge(seniority_date, left_on='Operator_ID',\n",
    "                                                                                     right_on='Operator_ID', how='left')"
   ]
  },
  {
   "cell_type": "code",
   "execution_count": 25,
   "metadata": {},
   "outputs": [],
   "source": [
    "combined_table=combined_table.dropna()"
   ]
  },
  {
   "cell_type": "code",
   "execution_count": null,
   "metadata": {},
   "outputs": [],
   "source": []
  },
  {
   "cell_type": "code",
   "execution_count": 8,
   "metadata": {},
   "outputs": [],
   "source": [
    "seniority_date=schedule.groupby('Operator_ID').Seniority_Date.first()\n"
   ]
  },
  {
   "cell_type": "code",
   "execution_count": 26,
   "metadata": {},
   "outputs": [
    {
     "data": {
      "text/plain": [
       "<matplotlib.collections.PathCollection at 0x11014d9b0>"
      ]
     },
     "execution_count": 26,
     "metadata": {},
     "output_type": "execute_result"
    },
    {
     "data": {
      "image/png": "[encoded data removed]",
      "text/plain": [
       "<Figure size 432x288 with 1 Axes>"
      ]
     },
     "metadata": {
      "needs_background": "light"
     },
     "output_type": "display_data"
    }
   ],
   "source": [
    "plt.scatter(combined_table.Seniority_Date, combined_table.accdate)\n"
   ]
  },
  {
   "cell_type": "code",
   "execution_count": null,
   "metadata": {},
   "outputs": [],
   "source": []
  }
 ],
 "metadata": {
  "kernelspec": {
   "display_name": "Python 3",
   "language": "python",
   "name": "python3"
  },
  "language_info": {
   "codemirror_mode": {
    "name": "ipython",
    "version": 3
   },
   "file_extension": ".py",
   "mimetype": "text/x-python",
   "name": "python",
   "nbconvert_exporter": "python",
   "pygments_lexer": "ipython3",
   "version": "3.6.8"
  }
 },
 "nbformat": 4,
 "nbformat_minor": 2
}
